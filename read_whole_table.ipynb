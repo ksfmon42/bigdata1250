{
 "cells": [
  {
   "cell_type": "code",
   "execution_count": null,
   "metadata": {},
   "outputs": [],
   "source": [
    "# insert data into hbase\n",
    "import csv\n",
    "import happybase\n",
    "import time\n",
    "\n",
    "batch_size = 1000\n",
    "host = \"hbase\"\n",
    "#namespace = \"sample_data\"\n",
    "#row_count = 0\n",
    "#start_time = time.time()\n",
    "table_name = b\"rfic\"\n",
    "\n",
    "def connect_to_hbase():\n",
    "    \"\"\" Connect to HBase server.\n",
    "    This will use the host, namespace, table name, and batch size as defined in\n",
    "    the global variables above.\n",
    "    \"\"\"\n",
    "    _conn = happybase.Connection(host = host)\n",
    "    _conn.open()\n",
    "    tables = _conn.tables()\n",
    "    print( \"HBase has tables {0}\".format(tables))\n",
    "\n",
    "    #if table_name not in tables:\n",
    "    #  print( \"Creating table {0}\".format(table_name))\n",
    "    #  _conn.create_table(table_name, { 'data': dict() } )\n",
    "\n",
    "\n",
    "    table = _conn.table(table_name)\n",
    "    batch = table.batch(batch_size = batch_size)\n",
    "    return _conn, batch\n",
    "\n",
    "\n",
    "conn, batch = connect_to_hbase()\n",
    "print(\"table_name = \", table_name)\n",
    "table = conn.table(table_name)\n",
    "rows = table.scan()\n",
    "\n",
    "\n",
    "n=0\n",
    "while(True):\n",
    "  try: \n",
    "    n = n+1\n",
    "    r=next(rows)\n",
    "    #print(r)\n",
    "    #if n > 100:\n",
    "    #    break\n",
    "  except:\n",
    "    break\n",
    "\n",
    "print(\"Total count: \", n)\n",
    "    \n",
    "conn.close()"
   ]
  }
 ],
 "metadata": {
  "kernelspec": {
   "display_name": "Python 3",
   "language": "python",
   "name": "python3"
  },
  "language_info": {
   "codemirror_mode": {
    "name": "ipython",
    "version": 3
   },
   "file_extension": ".py",
   "mimetype": "text/x-python",
   "name": "python",
   "nbconvert_exporter": "python",
   "pygments_lexer": "ipython3",
   "version": "3.6.4"
  }
 },
 "nbformat": 4,
 "nbformat_minor": 2
}
